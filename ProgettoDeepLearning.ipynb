{
  "nbformat": 4,
  "nbformat_minor": 0,
  "metadata": {
    "colab": {
      "provenance": [],
      "gpuType": "T4",
      "include_colab_link": true
    },
    "kernelspec": {
      "name": "python3",
      "display_name": "Python 3"
    },
    "language_info": {
      "name": "python"
    },
    "accelerator": "GPU"
  },
  "cells": [
    {
      "cell_type": "markdown",
      "metadata": {
        "id": "view-in-github",
        "colab_type": "text"
      },
      "source": [
        "<a href=\"https://colab.research.google.com/github/NicolaGabriele/progettoDeepLearning/blob/main/ProgettoDeepLearning.ipynb\" target=\"_parent\"><img src=\"https://colab.research.google.com/assets/colab-badge.svg\" alt=\"Open In Colab\"/></a>"
      ]
    },
    {
      "cell_type": "code",
      "source": [
        "from google.colab import drive\n",
        "drive.mount('/content/drive', force_remount=True)"
      ],
      "metadata": {
        "id": "I8qVmn0NluI3",
        "colab": {
          "base_uri": "https://localhost:8080/"
        },
        "outputId": "81bbb2f2-4763-41fe-8e07-6103468b009f"
      },
      "execution_count": 1,
      "outputs": [
        {
          "output_type": "stream",
          "name": "stdout",
          "text": [
            "Mounted at /content/drive\n"
          ]
        }
      ]
    },
    {
      "cell_type": "code",
      "source": [
        "!pip install timm"
      ],
      "metadata": {
        "id": "dW-CZdpb_BPC",
        "colab": {
          "base_uri": "https://localhost:8080/"
        },
        "outputId": "0d08a98d-4a35-4651-ed4e-c230c2e2a1ab"
      },
      "execution_count": 2,
      "outputs": [
        {
          "output_type": "stream",
          "name": "stdout",
          "text": [
            "Collecting timm\n",
            "  Downloading timm-0.9.12-py3-none-any.whl (2.2 MB)\n",
            "\u001b[?25l     \u001b[90m━━━━━━━━━━━━━━━━━━━━━━━━━━━━━━━━━━━━━━━━\u001b[0m \u001b[32m0.0/2.2 MB\u001b[0m \u001b[31m?\u001b[0m eta \u001b[36m-:--:--\u001b[0m\r\u001b[2K     \u001b[91m━━━━━\u001b[0m\u001b[90m╺\u001b[0m\u001b[90m━━━━━━━━━━━━━━━━━━━━━━━━━━━━━━━━━━\u001b[0m \u001b[32m0.3/2.2 MB\u001b[0m \u001b[31m8.5 MB/s\u001b[0m eta \u001b[36m0:00:01\u001b[0m\r\u001b[2K     \u001b[90m━━━━━━━━━━━━━━━━━━━━━━━━━━━━━━━━━━━━━━━━\u001b[0m \u001b[32m2.2/2.2 MB\u001b[0m \u001b[31m32.8 MB/s\u001b[0m eta \u001b[36m0:00:00\u001b[0m\n",
            "\u001b[?25hRequirement already satisfied: torch>=1.7 in /usr/local/lib/python3.10/dist-packages (from timm) (2.1.0+cu121)\n",
            "Requirement already satisfied: torchvision in /usr/local/lib/python3.10/dist-packages (from timm) (0.16.0+cu121)\n",
            "Requirement already satisfied: pyyaml in /usr/local/lib/python3.10/dist-packages (from timm) (6.0.1)\n",
            "Requirement already satisfied: huggingface-hub in /usr/local/lib/python3.10/dist-packages (from timm) (0.20.3)\n",
            "Requirement already satisfied: safetensors in /usr/local/lib/python3.10/dist-packages (from timm) (0.4.2)\n",
            "Requirement already satisfied: filelock in /usr/local/lib/python3.10/dist-packages (from torch>=1.7->timm) (3.13.1)\n",
            "Requirement already satisfied: typing-extensions in /usr/local/lib/python3.10/dist-packages (from torch>=1.7->timm) (4.5.0)\n",
            "Requirement already satisfied: sympy in /usr/local/lib/python3.10/dist-packages (from torch>=1.7->timm) (1.12)\n",
            "Requirement already satisfied: networkx in /usr/local/lib/python3.10/dist-packages (from torch>=1.7->timm) (3.2.1)\n",
            "Requirement already satisfied: jinja2 in /usr/local/lib/python3.10/dist-packages (from torch>=1.7->timm) (3.1.3)\n",
            "Requirement already satisfied: fsspec in /usr/local/lib/python3.10/dist-packages (from torch>=1.7->timm) (2023.6.0)\n",
            "Requirement already satisfied: triton==2.1.0 in /usr/local/lib/python3.10/dist-packages (from torch>=1.7->timm) (2.1.0)\n",
            "Requirement already satisfied: requests in /usr/local/lib/python3.10/dist-packages (from huggingface-hub->timm) (2.31.0)\n",
            "Requirement already satisfied: tqdm>=4.42.1 in /usr/local/lib/python3.10/dist-packages (from huggingface-hub->timm) (4.66.1)\n",
            "Requirement already satisfied: packaging>=20.9 in /usr/local/lib/python3.10/dist-packages (from huggingface-hub->timm) (23.2)\n",
            "Requirement already satisfied: numpy in /usr/local/lib/python3.10/dist-packages (from torchvision->timm) (1.23.5)\n",
            "Requirement already satisfied: pillow!=8.3.*,>=5.3.0 in /usr/local/lib/python3.10/dist-packages (from torchvision->timm) (9.4.0)\n",
            "Requirement already satisfied: MarkupSafe>=2.0 in /usr/local/lib/python3.10/dist-packages (from jinja2->torch>=1.7->timm) (2.1.4)\n",
            "Requirement already satisfied: charset-normalizer<4,>=2 in /usr/local/lib/python3.10/dist-packages (from requests->huggingface-hub->timm) (3.3.2)\n",
            "Requirement already satisfied: idna<4,>=2.5 in /usr/local/lib/python3.10/dist-packages (from requests->huggingface-hub->timm) (3.6)\n",
            "Requirement already satisfied: urllib3<3,>=1.21.1 in /usr/local/lib/python3.10/dist-packages (from requests->huggingface-hub->timm) (2.0.7)\n",
            "Requirement already satisfied: certifi>=2017.4.17 in /usr/local/lib/python3.10/dist-packages (from requests->huggingface-hub->timm) (2023.11.17)\n",
            "Requirement already satisfied: mpmath>=0.19 in /usr/local/lib/python3.10/dist-packages (from sympy->torch>=1.7->timm) (1.3.0)\n",
            "Installing collected packages: timm\n",
            "Successfully installed timm-0.9.12\n"
          ]
        }
      ]
    },
    {
      "cell_type": "code",
      "source": [
        "!pip install torcheval"
      ],
      "metadata": {
        "id": "RGb7JQbzm7Eq",
        "colab": {
          "base_uri": "https://localhost:8080/"
        },
        "outputId": "e5e9d0b6-fa52-4b90-f562-ef67b3329f89"
      },
      "execution_count": 3,
      "outputs": [
        {
          "output_type": "stream",
          "name": "stdout",
          "text": [
            "Collecting torcheval\n",
            "  Downloading torcheval-0.0.7-py3-none-any.whl (179 kB)\n",
            "\u001b[2K     \u001b[90m━━━━━━━━━━━━━━━━━━━━━━━━━━━━━━━━━━━━━━━━\u001b[0m \u001b[32m179.2/179.2 kB\u001b[0m \u001b[31m1.3 MB/s\u001b[0m eta \u001b[36m0:00:00\u001b[0m\n",
            "\u001b[?25hRequirement already satisfied: typing-extensions in /usr/local/lib/python3.10/dist-packages (from torcheval) (4.5.0)\n",
            "Installing collected packages: torcheval\n",
            "Successfully installed torcheval-0.0.7\n"
          ]
        }
      ]
    },
    {
      "cell_type": "code",
      "execution_count": 4,
      "metadata": {
        "id": "awWHkUZ2-BrY",
        "colab": {
          "base_uri": "https://localhost:8080/"
        },
        "outputId": "0d4edeca-1e93-44b1-9dad-30d9c84d2db3"
      },
      "outputs": [
        {
          "output_type": "stream",
          "name": "stdout",
          "text": [
            "cuda is selected !\n"
          ]
        }
      ],
      "source": [
        "import cv2\n",
        "import torch\n",
        "import numpy as np\n",
        "import torch.nn as nn\n",
        "from PIL import Image\n",
        "import matplotlib.pyplot as plt\n",
        "from torchsummary import summary\n",
        "from sklearn.metrics import f1_score\n",
        "import torchvision.transforms as transforms\n",
        "from torchvision import models as resnet_model\n",
        "import torchvision\n",
        "from torcheval.metrics import BinaryF1Score\n",
        "import os\n",
        "from torch.utils.data.dataset import random_split\n",
        "\n",
        "device = torch.device('cuda' if torch.cuda.is_available() else 'cpu')\n",
        "\n",
        "print(str(device) + ' is selected !')\n",
        "\n",
        "IMAGES_DIR = '/content/drive/MyDrive/machinedeeplearning/dataset/images'\n",
        "LABELS_DIR = '/content/drive/MyDrive/machinedeeplearning/dataset/masks'\n",
        "TRAIN_IMGS = '/content/drive/MyDrive/machinedeeplearning/dataset/trainset/images'\n",
        "TRAIN_MSKS = '/content/drive/MyDrive/machinedeeplearning/dataset/trainset/masks'\n",
        "TEST_IMGS = '/content/drive/MyDrive/machinedeeplearning/dataset/testset/images'\n",
        "TEST_MSKS = '/content/drive/MyDrive/machinedeeplearning/dataset/testset/masks'"
      ]
    },
    {
      "cell_type": "markdown",
      "source": [
        "#***Dataset Loading***"
      ],
      "metadata": {
        "id": "RmdXcmqwlFSu"
      }
    },
    {
      "cell_type": "code",
      "source": [
        "class Dataset(torch.utils.data.Dataset):\n",
        "  def __init__(self, img_dir, lab_dir, train = True):\n",
        "    super(Dataset, self).__init__()\n",
        "    self.img_dir = img_dir\n",
        "    self.lab_dir = lab_dir\n",
        "    self.img_names = os.listdir(img_dir)\n",
        "    self.lab_names = os.listdir(lab_dir)\n",
        "    self.transform1 = torchvision.transforms.Compose(\n",
        "        [torchvision.transforms.Resize((224,224)),\n",
        "        torchvision.transforms.RandomHorizontalFlip(p=0.5),\n",
        "        torchvision.transforms.RandomVerticalFlip(p=0.5),\n",
        "        torchvision.transforms.GaussianBlur(3)]\n",
        "    )\n",
        "\n",
        "    self.transform2 = torchvision.transforms.Compose(\n",
        "        [torchvision.transforms.Resize((224,224)),\n",
        "        torchvision.transforms.RandomHorizontalFlip(p=0.5),\n",
        "        torchvision.transforms.RandomVerticalFlip(p=0.5)]\n",
        "    )\n",
        "    self.transform = torchvision.transforms.Resize((224,224))\n",
        "    self.train = train\n",
        "\n",
        "  def __getitem__(self,idx):\n",
        "    img_name = os.path.join(self.img_dir,self.img_names[idx])\n",
        "    clas = 1 if self.img_names[idx][:2] == '00' else 0 if self.img_names[idx][:1] == '0' else 2\n",
        "    mask_name = os.path.join(self.lab_dir, self.lab_names[idx])\n",
        "    image = torchvision.io.read_image(img_name)/255\n",
        "    mask = torchvision.io.read_image(mask_name)/255\n",
        "    if self.train:\n",
        "      image = self.transform1(image)\n",
        "      mask = self.transform2(mask)\n",
        "    else:\n",
        "      image = self.transform(image)\n",
        "      mask = self.transform(mask)\n",
        "    return (image,mask[0],clas)\n",
        "\n",
        "  def __len__(self):\n",
        "    return len(os.listdir(self.img_dir))"
      ],
      "metadata": {
        "id": "S7axHm52lJa0"
      },
      "execution_count": 5,
      "outputs": []
    },
    {
      "cell_type": "code",
      "source": [
        "trainset = Dataset(TRAIN_IMGS, TRAIN_MSKS, train=False)\n",
        "testset = Dataset(TEST_IMGS, TEST_MSKS,train=False)"
      ],
      "metadata": {
        "id": "Fa-3YWr9ffXC"
      },
      "execution_count": 6,
      "outputs": []
    },
    {
      "cell_type": "markdown",
      "source": [
        "#***Segmentation Only***"
      ],
      "metadata": {
        "id": "yGCBQCiTYvh-"
      }
    },
    {
      "cell_type": "markdown",
      "source": [
        "##***MET-NET***"
      ],
      "metadata": {
        "id": "e6uPGnVVk8mM"
      }
    },
    {
      "cell_type": "code",
      "source": [
        "class DecoderBottleneckLayer(nn.Module):\n",
        "    def __init__(self, in_channels, n_filters, use_transpose=True):\n",
        "        super(DecoderBottleneckLayer, self).__init__()\n",
        "\n",
        "        self.conv1 = nn.Conv2d(in_channels, in_channels // 4, 1)\n",
        "        self.norm1 = nn.BatchNorm2d(in_channels // 4)\n",
        "        self.relu1 = nn.LeakyReLU()\n",
        "\n",
        "        if use_transpose:\n",
        "            self.up = nn.Sequential(\n",
        "                nn.ConvTranspose2d(\n",
        "                    in_channels // 4, in_channels // 4, 3, stride=2, padding=1, output_padding=1\n",
        "                ),\n",
        "                nn.BatchNorm2d(in_channels // 4),\n",
        "                nn.LeakyReLU()\n",
        "            )\n",
        "        else:\n",
        "            self.up = nn.Upsample(scale_factor=2, align_corners=True, mode=\"bilinear\")\n",
        "\n",
        "        self.conv3 = nn.Conv2d(in_channels // 4, n_filters, 1)\n",
        "        self.norm3 = nn.BatchNorm2d(n_filters)\n",
        "        self.relu3 = nn.LeakyReLU()\n",
        "\n",
        "    def forward(self, x):\n",
        "        x = self.conv1(x)\n",
        "        x = self.norm1(x)\n",
        "        x = self.relu1(x)\n",
        "        x = self.up(x)\n",
        "        x = self.conv3(x)\n",
        "        x = self.norm3(x)\n",
        "        x = self.relu3(x)\n",
        "        return x\n",
        "\n",
        "class FFBlock(nn.Module):\n",
        "    def __init__(self, channels):\n",
        "        super(FFBlock, self).__init__()\n",
        "\n",
        "        self.conv3 = nn.Conv2d(in_channels=channels, out_channels=channels, kernel_size=3, padding=1)\n",
        "        self.conv1 = nn.Conv2d(in_channels=channels, out_channels=channels, kernel_size=1)\n",
        "\n",
        "        self.relu3 = nn.LeakyReLU()\n",
        "        self.relu1 = nn.LeakyReLU()\n",
        "\n",
        "    def forward(self, x):\n",
        "        x3 = self.conv3(x)\n",
        "        x3 = self.relu3(x3)\n",
        "        x1 = self.conv1(x)\n",
        "        x1 = self.relu1(x1)\n",
        "        out = x3 + x1\n",
        "\n",
        "        return out\n",
        "\n",
        "class SEBlock(nn.Module):\n",
        "    def __init__(self, channel, r=16):\n",
        "        super(SEBlock, self).__init__()\n",
        "        self.avg_pool = nn.AdaptiveAvgPool2d(1)\n",
        "        self.fc = nn.Sequential(\n",
        "            nn.Linear(channel, channel // r, bias=False),\n",
        "            nn.LeakyReLU(),\n",
        "            nn.Linear(channel // r, channel, bias=False),\n",
        "            nn.Sigmoid(),\n",
        "        )\n",
        "\n",
        "    def forward(self, x):\n",
        "        b, c, _, _ = x.size()\n",
        "        ## Squeeze operation\n",
        "        y = self.avg_pool(x).view(b, c)\n",
        "        ## Excitation operation\n",
        "        y = self.fc(y).view(b, c, 1, 1)\n",
        "        ## Fusion operation\n",
        "        y = torch.mul(x, y)\n",
        "        return y\n",
        "\n",
        "class PDFBlock(nn.Module):\n",
        "    def __init__(self,in_channels, out_channels_list, kernel_size_list, dilation_list):\n",
        "        super(PDFBlock, self).__init__()\n",
        "        self.conv_num = len(out_channels_list)\n",
        "        assert(self.conv_num == 4)\n",
        "        assert(self.conv_num == len(kernel_size_list) and self.conv_num == len(dilation_list))\n",
        "        pad0 = int((kernel_size_list[0] - 1) / 2 * dilation_list[0])\n",
        "        pad1 = int((kernel_size_list[1] - 1) / 2 * dilation_list[1])\n",
        "        pad2 = int((kernel_size_list[2] - 1) / 2 * dilation_list[2])\n",
        "        pad3 = int((kernel_size_list[3] - 1) / 2 * dilation_list[3])\n",
        "        self.conv_1 = nn.Conv2d(in_channels, out_channels_list[0], kernel_size = kernel_size_list[0], dilation = dilation_list[0], padding = pad0 )\n",
        "        self.conv_2 = nn.Conv2d(in_channels, out_channels_list[1], kernel_size = kernel_size_list[1], dilation = dilation_list[1], padding = pad1 )\n",
        "        self.conv_3 = nn.Conv2d(in_channels, out_channels_list[2], kernel_size = kernel_size_list[2], dilation = dilation_list[2], padding = pad2 )\n",
        "        self.conv_4 = nn.Conv2d(in_channels, out_channels_list[3], kernel_size = kernel_size_list[3], dilation = dilation_list[3], padding = pad3 )\n",
        "\n",
        "        out_channels  = out_channels_list[0] + out_channels_list[1] + out_channels_list[2] + out_channels_list[3]\n",
        "        self.conv_1x1 = nn.Sequential(\n",
        "            nn.Conv2d(out_channels, out_channels, kernel_size=1, padding=0),\n",
        "            nn.BatchNorm2d(out_channels),\n",
        "            nn.LeakyReLU())\n",
        "\n",
        "    def forward(self, x):\n",
        "        x1 = self.conv_1(x)\n",
        "        x2 = self.conv_2(x)\n",
        "        x3 = self.conv_3(x)\n",
        "        x4 = self.conv_4(x)\n",
        "\n",
        "        y  = torch.cat([x1, x2, x3, x4], dim=1)\n",
        "        y  = self.conv_1x1(y)\n",
        "        return y\n",
        "\n",
        "class MET_Net(nn.Module):\n",
        "    def __init__(self, n_channels=3, n_classes=1):\n",
        "        super(MET_Net, self).__init__()\n",
        "\n",
        "        transformer = torch.hub.load('facebookresearch/deit:main', 'deit_tiny_distilled_patch16_224', pretrained=True)\n",
        "        resnet = resnet_model.resnet18(pretrained=True)\n",
        "\n",
        "        self.firstconv = resnet.conv1\n",
        "        self.firstbn = resnet.bn1\n",
        "        self.firstrelu = resnet.relu\n",
        "\n",
        "        self.encoder1 = resnet.layer1\n",
        "        self.encoder2 = resnet.layer2\n",
        "        self.encoder3 = resnet.layer3\n",
        "        self.encoder4 = resnet.layer4\n",
        "\n",
        "        self.patch_embed = transformer.patch_embed\n",
        "        self.transformers = nn.ModuleList( [transformer.blocks[i] for i in range(12)] )\n",
        "\n",
        "        self.conv_seq_img = nn.Conv2d(in_channels=192, out_channels=512, kernel_size=1, padding=0)\n",
        "        self.se = SEBlock(channel=1024)\n",
        "        self.conv2d = nn.Conv2d(in_channels=1024, out_channels=512, kernel_size=1, padding=0)\n",
        "\n",
        "        self.FFBlock1 = FFBlock(channels=64)\n",
        "        self.FFBlock2 = FFBlock(channels=128)\n",
        "        self.FFBlock3 = FFBlock(channels=256)\n",
        "\n",
        "        self.FFB1 = nn.ModuleList([self.FFBlock1 for i in range(6)])\n",
        "        self.FFB2 = nn.ModuleList([self.FFBlock2 for i in range(4)])\n",
        "        self.FFB3 = nn.ModuleList([self.FFBlock3 for i in range(2)])\n",
        "\n",
        "        filters = [64, 128, 256, 512]\n",
        "\n",
        "        self.decoder4 = DecoderBottleneckLayer(filters[3], filters[2])\n",
        "        self.decoder3 = DecoderBottleneckLayer(filters[2], filters[1])\n",
        "        self.decoder2 = DecoderBottleneckLayer(filters[1], filters[0])\n",
        "        self.decoder1 = DecoderBottleneckLayer(filters[0], filters[0])\n",
        "\n",
        "        self.final_conv1 = nn.ConvTranspose2d(filters[0], 32, 4, 2, 1)\n",
        "        self.final_relu1 = nn.LeakyReLU()\n",
        "        self.final_conv2 = nn.Conv2d(32, 32, 3, padding=1)\n",
        "        self.final_relu2 = nn.LeakyReLU()\n",
        "        self.final_conv3 = nn.Conv2d(32, n_classes, 3, padding=1)\n",
        "\n",
        "    def forward(self, x):\n",
        "        b, c, h, w = x.shape\n",
        "\n",
        "        e0 = self.firstconv(x)\n",
        "        e0 = self.firstbn(e0)\n",
        "        e0 = self.firstrelu(e0)\n",
        "\n",
        "        e1 = self.encoder1(e0)\n",
        "        e2 = self.encoder2(e1)\n",
        "        e3 = self.encoder3(e2)\n",
        "        feature_cnn = self.encoder4(e3)\n",
        "\n",
        "        emb = self.patch_embed(x)\n",
        "        for i in range(12):\n",
        "            emb = self.transformers[i](emb)\n",
        "\n",
        "        feature_tf = emb.permute(0, 2, 1)\n",
        "        feature_tf = feature_tf.view(b, 192, 14, 14)\n",
        "        feature_tf = self.conv_seq_img(feature_tf)\n",
        "\n",
        "        feature_cat = torch.cat((feature_cnn, feature_tf), dim=1)\n",
        "        feature_att = self.se(feature_cat)\n",
        "        feature_out = self.conv2d(feature_att)\n",
        "\n",
        "        for i in range(2):\n",
        "            e3 = self.FFB3[i](e3)\n",
        "        for i in range(4):\n",
        "            e2 = self.FFB2[i](e2)\n",
        "        for i in range(6):\n",
        "            e1 = self.FFB1[i](e1)\n",
        "\n",
        "        d4 = self.decoder4(feature_out) + e3\n",
        "        d3 = self.decoder3(d4) + e2\n",
        "        d2 = self.decoder2(d3) + e1\n",
        "\n",
        "        out1 = self.final_conv1(d2)\n",
        "        out1 = self.final_relu1(out1)\n",
        "\n",
        "        out = self.final_conv2(out1)\n",
        "        out = self.final_relu2(out)\n",
        "        out = self.final_conv3(out)\n",
        "\n",
        "        return out"
      ],
      "metadata": {
        "id": "nkRyLfiO-Z6p"
      },
      "execution_count": 7,
      "outputs": []
    },
    {
      "cell_type": "code",
      "source": [
        "model = MET_Net()\n",
        "for param in model.parameters():\n",
        "  if len(param.data.shape)>1:\n",
        "    torch.nn.init.xavier_normal_(param.data)"
      ],
      "metadata": {
        "colab": {
          "base_uri": "https://localhost:8080/"
        },
        "id": "ESzgAzWE-eci",
        "outputId": "a175d381-69f5-4840-8702-b3f5ee2920b1"
      },
      "execution_count": 8,
      "outputs": [
        {
          "output_type": "stream",
          "name": "stderr",
          "text": [
            "Downloading: \"https://github.com/facebookresearch/deit/zipball/main\" to /root/.cache/torch/hub/main.zip\n",
            "/root/.cache/torch/hub/facebookresearch_deit_main/models.py:63: UserWarning: Overwriting deit_tiny_patch16_224 in registry with models.deit_tiny_patch16_224. This is because the name being registered conflicts with an existing name. Please check if this is not expected.\n",
            "  def deit_tiny_patch16_224(pretrained=False, **kwargs):\n",
            "/root/.cache/torch/hub/facebookresearch_deit_main/models.py:78: UserWarning: Overwriting deit_small_patch16_224 in registry with models.deit_small_patch16_224. This is because the name being registered conflicts with an existing name. Please check if this is not expected.\n",
            "  def deit_small_patch16_224(pretrained=False, **kwargs):\n",
            "/root/.cache/torch/hub/facebookresearch_deit_main/models.py:93: UserWarning: Overwriting deit_base_patch16_224 in registry with models.deit_base_patch16_224. This is because the name being registered conflicts with an existing name. Please check if this is not expected.\n",
            "  def deit_base_patch16_224(pretrained=False, **kwargs):\n",
            "/root/.cache/torch/hub/facebookresearch_deit_main/models.py:108: UserWarning: Overwriting deit_tiny_distilled_patch16_224 in registry with models.deit_tiny_distilled_patch16_224. This is because the name being registered conflicts with an existing name. Please check if this is not expected.\n",
            "  def deit_tiny_distilled_patch16_224(pretrained=False, **kwargs):\n",
            "/root/.cache/torch/hub/facebookresearch_deit_main/models.py:123: UserWarning: Overwriting deit_small_distilled_patch16_224 in registry with models.deit_small_distilled_patch16_224. This is because the name being registered conflicts with an existing name. Please check if this is not expected.\n",
            "  def deit_small_distilled_patch16_224(pretrained=False, **kwargs):\n",
            "/root/.cache/torch/hub/facebookresearch_deit_main/models.py:138: UserWarning: Overwriting deit_base_distilled_patch16_224 in registry with models.deit_base_distilled_patch16_224. This is because the name being registered conflicts with an existing name. Please check if this is not expected.\n",
            "  def deit_base_distilled_patch16_224(pretrained=False, **kwargs):\n",
            "/root/.cache/torch/hub/facebookresearch_deit_main/models.py:153: UserWarning: Overwriting deit_base_patch16_384 in registry with models.deit_base_patch16_384. This is because the name being registered conflicts with an existing name. Please check if this is not expected.\n",
            "  def deit_base_patch16_384(pretrained=False, **kwargs):\n",
            "/root/.cache/torch/hub/facebookresearch_deit_main/models.py:168: UserWarning: Overwriting deit_base_distilled_patch16_384 in registry with models.deit_base_distilled_patch16_384. This is because the name being registered conflicts with an existing name. Please check if this is not expected.\n",
            "  def deit_base_distilled_patch16_384(pretrained=False, **kwargs):\n",
            "Downloading: \"https://dl.fbaipublicfiles.com/deit/deit_tiny_distilled_patch16_224-b40b3cf7.pth\" to /root/.cache/torch/hub/checkpoints/deit_tiny_distilled_patch16_224-b40b3cf7.pth\n",
            "100%|██████████| 22.6M/22.6M [00:00<00:00, 85.9MB/s]\n",
            "/usr/local/lib/python3.10/dist-packages/torchvision/models/_utils.py:208: UserWarning: The parameter 'pretrained' is deprecated since 0.13 and may be removed in the future, please use 'weights' instead.\n",
            "  warnings.warn(\n",
            "/usr/local/lib/python3.10/dist-packages/torchvision/models/_utils.py:223: UserWarning: Arguments other than a weight enum or `None` for 'weights' are deprecated since 0.13 and may be removed in the future. The current behavior is equivalent to passing `weights=ResNet18_Weights.IMAGENET1K_V1`. You can also use `weights=ResNet18_Weights.DEFAULT` to get the most up-to-date weights.\n",
            "  warnings.warn(msg)\n",
            "Downloading: \"https://download.pytorch.org/models/resnet18-f37072fd.pth\" to /root/.cache/torch/hub/checkpoints/resnet18-f37072fd.pth\n",
            "100%|██████████| 44.7M/44.7M [00:00<00:00, 65.1MB/s]\n"
          ]
        }
      ]
    },
    {
      "cell_type": "markdown",
      "source": [
        "##***Training***"
      ],
      "metadata": {
        "id": "PMfo2VGyGMp4"
      }
    },
    {
      "cell_type": "code",
      "source": [
        "class DiceLoss(nn.Module):\n",
        "  def __init__(self):\n",
        "    super(DiceLoss,self).__init__()\n",
        "\n",
        "  def forward(self, predictions, targets):\n",
        "    pred = torch.nn.functional.sigmoid(predictions).squeeze(dim=(1))\n",
        "    #pred = torch.where(pred>=0.7, 1, 0).squeeze(dim=(1)).type(torch.uint8) #aggiustare lo squeeze\n",
        "    targ = targets.type(torch.uint8)\n",
        "    intersection = torch.mul(pred,targ).flatten(start_dim=1, end_dim=2).sum(dim=1)\n",
        "    union = (pred.flatten(start_dim=1, end_dim=2)**2).sum(dim=1) + (targ.flatten(start_dim=1, end_dim=2)**2).sum(dim=1)\n",
        "    iou = (1+2*intersection)/(1+union)\n",
        "    return torch.tensor(1.0, requires_grad=True)-iou.mean()"
      ],
      "metadata": {
        "id": "-7u2ANeWPWYh"
      },
      "execution_count": 9,
      "outputs": []
    },
    {
      "cell_type": "code",
      "source": [
        "#iperparameter\n",
        "num_epochs = 30\n",
        "batch_size = 32\n",
        "learning_rate=1e-4\n",
        "optimizer = torch.optim.NAdam(params=model.parameters(),lr=learning_rate)\n",
        "lr = torch.optim.lr_scheduler.ReduceLROnPlateau(optimizer=optimizer,patience=15)\n",
        "dataloader = torch.utils.data.DataLoader(trainset,batch_size=batch_size,shuffle=True)\n",
        "loss_fn = DiceLoss()"
      ],
      "metadata": {
        "id": "Bxpm_bqzsRqC"
      },
      "execution_count": 10,
      "outputs": []
    },
    {
      "cell_type": "code",
      "source": [
        "def train_one_epoch(epoch_index):\n",
        "    l = []\n",
        "\n",
        "    for i, data in enumerate(dataloader):\n",
        "\n",
        "        torch.cuda.empty_cache()\n",
        "        inputs, labels, cls = data\n",
        "        inputs = inputs.to('cuda')\n",
        "        labels = labels.to(device)\n",
        "\n",
        "        optimizer.zero_grad()\n",
        "\n",
        "        outputs = model(inputs)\n",
        "        loss = loss_fn(outputs, labels)\n",
        "        loss.backward()\n",
        "\n",
        "        optimizer.step()\n",
        "        #print('Batch {} loss: {:.4f}'.format(i,loss.item()))\n",
        "\n",
        "        l.append(loss.item())\n",
        "\n",
        "    print('Epoch {} Loss (mean): {:.4f}'.format(epoch_index, np.mean(l)))"
      ],
      "metadata": {
        "id": "1YDMRd3pX-P-"
      },
      "execution_count": 11,
      "outputs": []
    },
    {
      "cell_type": "code",
      "source": [
        "model.train()\n",
        "model.to('cuda')\n",
        "for epoch in range(1,num_epochs+1):\n",
        "  train_one_epoch(epoch)\n",
        "  if epoch%1 == 0:\n",
        "    torch.save(model,f'/content/drive/MyDrive/machinedeeplearning/models/model_{epoch}ep')"
      ],
      "metadata": {
        "id": "2rmulNuJZyU1",
        "outputId": "63a24f42-a925-410e-a863-e0811988be9b",
        "colab": {
          "base_uri": "https://localhost:8080/"
        }
      },
      "execution_count": 12,
      "outputs": [
        {
          "output_type": "stream",
          "name": "stdout",
          "text": [
            "Epoch 1 Loss (mean): 0.6856\n",
            "Epoch 2 Loss (mean): 0.5670\n",
            "Epoch 3 Loss (mean): 0.5245\n",
            "Epoch 4 Loss (mean): 0.5134\n",
            "Epoch 5 Loss (mean): 0.5104\n",
            "Epoch 6 Loss (mean): 0.5050\n",
            "Epoch 7 Loss (mean): 0.4989\n",
            "Epoch 8 Loss (mean): 0.4902\n",
            "Epoch 9 Loss (mean): 0.4710\n",
            "Epoch 10 Loss (mean): 0.4328\n",
            "Epoch 11 Loss (mean): 0.3907\n",
            "Epoch 12 Loss (mean): 0.3438\n",
            "Epoch 13 Loss (mean): 0.3167\n",
            "Epoch 14 Loss (mean): 0.2824\n",
            "Epoch 15 Loss (mean): 0.2462\n",
            "Epoch 16 Loss (mean): 0.2232\n",
            "Epoch 17 Loss (mean): 0.2028\n",
            "Epoch 18 Loss (mean): 0.1848\n",
            "Epoch 19 Loss (mean): 0.1624\n",
            "Epoch 20 Loss (mean): 0.1456\n",
            "Epoch 21 Loss (mean): 0.1299\n",
            "Epoch 22 Loss (mean): 0.1168\n",
            "Epoch 23 Loss (mean): 0.1045\n",
            "Epoch 24 Loss (mean): 0.0927\n",
            "Epoch 25 Loss (mean): 0.0826\n",
            "Epoch 26 Loss (mean): 0.0785\n",
            "Epoch 27 Loss (mean): 0.0717\n",
            "Epoch 28 Loss (mean): 0.0636\n",
            "Epoch 29 Loss (mean): 0.0565\n",
            "Epoch 30 Loss (mean): 0.0559\n"
          ]
        }
      ]
    },
    {
      "cell_type": "code",
      "source": [
        "model.to(device)\n",
        "train_one_epoch(1)"
      ],
      "metadata": {
        "colab": {
          "base_uri": "https://localhost:8080/"
        },
        "id": "nRkePmdAdGzS",
        "outputId": "6c3584ac-c150-458e-97ff-b441f3c96c28"
      },
      "execution_count": null,
      "outputs": [
        {
          "output_type": "stream",
          "name": "stdout",
          "text": [
            "Epoch 1 Loss (mean): 0.4986859874197548\n"
          ]
        }
      ]
    },
    {
      "cell_type": "code",
      "source": [
        "k = torch.randn((3,3,224,224))\n",
        "model.to('cpu')\n",
        "k = model(k)\n",
        "k = torch.nn.functional.sigmoid(k)\n",
        "k = torch.where(k>=0.6,1,0)\n",
        "l = torch.rand((3,1,224,224))\n",
        "l = torch.where(l>=0.6,1,0)\n",
        "loss_fn(k,l)"
      ],
      "metadata": {
        "colab": {
          "base_uri": "https://localhost:8080/"
        },
        "id": "gIgcIm4fiFyR",
        "outputId": "da37be38-ca48-4b44-e7b2-db5b34fb4174"
      },
      "execution_count": null,
      "outputs": [
        {
          "output_type": "execute_result",
          "data": {
            "text/plain": [
              "tensor(0.5891)"
            ]
          },
          "metadata": {},
          "execution_count": 65
        }
      ]
    },
    {
      "cell_type": "markdown",
      "source": [
        "##***Model Evaluation***"
      ],
      "metadata": {
        "id": "gPB1JcOqNl9a"
      }
    },
    {
      "cell_type": "code",
      "source": [
        "import torcheval\n",
        "def evaluate(model):\n",
        "  model.eval()\n",
        "  thresh = 0.7\n",
        "  testloader = torch.utils.data.DataLoader(testset,batch_size=1,shuffle=False)\n",
        "  m = BinaryF1Score(threshold=thresh)\n",
        "  prec = torcheval.metrics.BinaryPrecision(threshold=thresh)\n",
        "  rec = torcheval.metrics.BinaryRecall(threshold=thresh)\n",
        "  for i, data in enumerate(testloader):\n",
        "    x, ytrue,cls = data\n",
        "    x = x.to(device)\n",
        "    ypred = model(x)\n",
        "    ypred = torch.nn.functional.sigmoid(ypred)[0][0].flatten()\n",
        "    m.update(ypred,ytrue[0].flatten().type(torch.uint8))\n",
        "    prec.update(ypred,ytrue[0].flatten().type(torch.uint8))\n",
        "    rec.update(ypred,ytrue[0].flatten().type(torch.uint8))\n",
        "  return m.compute(), prec.compute(), rec.compute()\n"
      ],
      "metadata": {
        "id": "GcZW2TMDNpFT"
      },
      "execution_count": 13,
      "outputs": []
    },
    {
      "cell_type": "code",
      "source": [
        "models_dir = '/content/drive/MyDrive/machinedeeplearning/models/'\n",
        "f1s = []\n",
        "precs = []\n",
        "recs = []\n",
        "for model_name in os.listdir(models_dir)[1:]:\n",
        "  model = torch.load(os.path.join(models_dir,model_name))\n",
        "  f1, prec, rec = evaluate(model)\n",
        "  f1s.append(f1)\n",
        "  precs.append(prec)\n",
        "  recs.append(rec)\n",
        "\n",
        "print(f1s)\n",
        "print(precs)\n",
        "print(recs)\n",
        ""
      ],
      "metadata": {
        "colab": {
          "base_uri": "https://localhost:8080/"
        },
        "id": "ZMZd7dTXI4xz",
        "outputId": "9200546d-94ed-4eea-9e88-631cf8849e02"
      },
      "execution_count": 17,
      "outputs": [
        {
          "output_type": "stream",
          "name": "stdout",
          "text": [
            "[tensor(0.), tensor(0.3809), tensor(0.4017), tensor(0.4585), tensor(0.4033), tensor(0.4419), tensor(0.4661), tensor(0.2762), tensor(0.4357), tensor(0.1833), tensor(0.4431), tensor(0.3437), tensor(0.2340), tensor(0.2666), tensor(0.3547), tensor(0.4034), tensor(0.2239), tensor(0.3727), tensor(0.3189), tensor(0.2948), tensor(0.1717), tensor(0.2640), tensor(0.2523), tensor(0.3241), tensor(0.2403), tensor(0.2591), tensor(0.2114), tensor(0.2419), tensor(0.1935), tensor(0.2091)]\n",
            "[tensor(0.), tensor(0.4154), tensor(0.4630), tensor(0.4434), tensor(0.4852), tensor(0.4527), tensor(0.3952), tensor(0.4672), tensor(0.4428), tensor(0.4033), tensor(0.3428), tensor(0.2190), tensor(0.4749), tensor(0.4124), tensor(0.4246), tensor(0.3862), tensor(0.4443), tensor(0.4095), tensor(0.4067), tensor(0.4314), tensor(0.4574), tensor(0.4374), tensor(0.4384), tensor(0.4045), tensor(0.4375), tensor(0.4280), tensor(0.4253), tensor(0.4435), tensor(0.4574), tensor(0.4235)]\n",
            "[tensor(0.), tensor(0.3517), tensor(0.3547), tensor(0.4747), tensor(0.3451), tensor(0.4316), tensor(0.5680), tensor(0.1961), tensor(0.4287), tensor(0.1186), tensor(0.6264), tensor(0.7983), tensor(0.1553), tensor(0.1970), tensor(0.3045), tensor(0.4223), tensor(0.1497), tensor(0.3419), tensor(0.2623), tensor(0.2239), tensor(0.1057), tensor(0.1890), tensor(0.1771), tensor(0.2704), tensor(0.1656), tensor(0.1858), tensor(0.1407), tensor(0.1663), tensor(0.1227), tensor(0.1389)]\n"
          ]
        }
      ]
    },
    {
      "cell_type": "code",
      "source": [
        "max(f1s)"
      ],
      "metadata": {
        "id": "bpxBA2fvctTO",
        "outputId": "d7ea30d1-ba6a-43df-874f-c781d613d351",
        "colab": {
          "base_uri": "https://localhost:8080/"
        }
      },
      "execution_count": 19,
      "outputs": [
        {
          "output_type": "execute_result",
          "data": {
            "text/plain": [
              "tensor(0.4661)"
            ]
          },
          "metadata": {},
          "execution_count": 19
        }
      ]
    },
    {
      "cell_type": "code",
      "source": [
        "plt.plot(range(1,31), f1s, label='f1 score')\n",
        "plt.plot(range(1,31), precs, label='precision')\n",
        "plt.plot(range(1,31), recs, label = 'recall')\n",
        "plt.legend()\n",
        "plt.show()"
      ],
      "metadata": {
        "colab": {
          "base_uri": "https://localhost:8080/",
          "height": 430
        },
        "id": "9gOXMnIzLpac",
        "outputId": "34febf95-8348-4acc-88fb-e8d82828bab5"
      },
      "execution_count": 18,
      "outputs": [
        {
          "output_type": "display_data",
          "data": {
            "text/plain": [
              "<Figure size 640x480 with 1 Axes>"
            ],
            "image/png": "[encoded data removed]"
          },
          "metadata": {}
        }
      ]
    },
    {
      "cell_type": "code",
      "source": [
        "os.listdir(models_dir)"
      ],
      "metadata": {
        "colab": {
          "base_uri": "https://localhost:8080/"
        },
        "id": "aiZcjoezKpRD",
        "outputId": "9923ae59-368c-4b05-c8bb-cf70b6900963"
      },
      "execution_count": 17,
      "outputs": [
        {
          "output_type": "execute_result",
          "data": {
            "text/plain": [
              "['model_5ep',\n",
              " 'model_10ep',\n",
              " 'model_20ep',\n",
              " 'model_30ep',\n",
              " 'model_1ep',\n",
              " 'model_2ep',\n",
              " 'model_3ep',\n",
              " 'model_4ep',\n",
              " 'model_6ep',\n",
              " 'model_7ep',\n",
              " 'model_8ep',\n",
              " 'model_9ep',\n",
              " 'model_11ep',\n",
              " 'model_12ep',\n",
              " 'model_13ep',\n",
              " 'model_14ep',\n",
              " 'model_15ep',\n",
              " 'model_16ep',\n",
              " 'model_17ep',\n",
              " 'model_18ep',\n",
              " 'model_19ep',\n",
              " 'model_21ep',\n",
              " 'model_22ep',\n",
              " 'model_23ep',\n",
              " 'model_24ep',\n",
              " 'model_25ep',\n",
              " 'model_26ep',\n",
              " 'model_27ep',\n",
              " 'model_28ep',\n",
              " 'model_29ep',\n",
              " '.ipynb_checkpoints']"
            ]
          },
          "metadata": {},
          "execution_count": 17
        }
      ]
    },
    {
      "cell_type": "code",
      "source": [
        "from torchvision.utils import draw_bounding_boxes, draw_segmentation_masks\n",
        "def visualize(img, model):\n",
        "  prediction = model(img.unsqueeze(dim=0))\n",
        "  im = torch.tensor((img*255).cpu().numpy().astype(np.uint8),dtype=torch.uint8)\n",
        "  result = im\n",
        "  masks = torch.where(prediction>0.5,True,False)\n",
        "  result = draw_segmentation_masks(image = result,masks=masks,alpha=0.5)\n",
        "  return result"
      ],
      "metadata": {
        "id": "3rmQIGoWs5j9"
      },
      "execution_count": null,
      "outputs": []
    },
    {
      "cell_type": "code",
      "source": [
        "model = torch.load('/content/drive/MyDrive/machinedeeplearning/models/model_100ep')"
      ],
      "metadata": {
        "id": "6qmQDWQuuv2v"
      },
      "execution_count": null,
      "outputs": []
    },
    {
      "cell_type": "code",
      "source": [
        "model.eval()\n",
        "i = np.random.randint(0,len(testset)-1)\n",
        "p = model(testset[i][0].to(device).unsqueeze(dim=0))[0,0]\n",
        "mask = torch.where(p>0.1,True,False)\n",
        "im = torch.tensor((testset[i][0]*255).cpu().numpy().astype(np.uint8),dtype=torch.uint8)\n",
        "r = draw_segmentation_masks(image = im,masks=mask,alpha=0.5,colors=[(255,0,0)])\n",
        "r = draw_segmentation_masks(image = r,masks=testset[i][1].type(torch.uint8).type(torch.bool),alpha=0.5,colors=[(0,255,0)])\n",
        "torchvision.transforms.ToPILImage()(r)"
      ],
      "metadata": {
        "colab": {
          "base_uri": "https://localhost:8080/",
          "height": 241
        },
        "id": "sRizvSantC1a",
        "outputId": "2feca99d-57b0-47b4-8acf-fa8628c8ea12"
      },
      "execution_count": null,
      "outputs": [
        {
          "output_type": "execute_result",
          "data": {
            "text/plain": [
              "<PIL.Image.Image image mode=RGB size=224x224>"
            ],
            "image/png": "[encoded data removed]"
          },
          "metadata": {},
          "execution_count": 72
        }
      ]
    },
    {
      "cell_type": "markdown",
      "source": [
        "#***Classification Only***"
      ],
      "metadata": {
        "id": "MGrt09fcY-oK"
      }
    },
    {
      "cell_type": "markdown",
      "source": [
        "##***Modifica di MET_Net***"
      ],
      "metadata": {
        "id": "mvBXYxpmjdts"
      }
    },
    {
      "cell_type": "code",
      "source": [
        "class DecoderBottleneckLayer(nn.Module):\n",
        "    def __init__(self, in_channels, n_filters, use_transpose=True):\n",
        "        super(DecoderBottleneckLayer, self).__init__()\n",
        "\n",
        "        self.conv1 = nn.Conv2d(in_channels, in_channels // 4, 1)\n",
        "        self.norm1 = nn.BatchNorm2d(in_channels // 4)\n",
        "        self.relu1 = nn.LeakyReLU()\n",
        "\n",
        "        if use_transpose:\n",
        "            self.up = nn.Sequential(\n",
        "                nn.ConvTranspose2d(\n",
        "                    in_channels // 4, in_channels // 4, 3, stride=2, padding=1, output_padding=1\n",
        "                ),\n",
        "                nn.BatchNorm2d(in_channels // 4),\n",
        "                nn.LeakyReLU()\n",
        "            )\n",
        "        else:\n",
        "            self.up = nn.Upsample(scale_factor=2, align_corners=True, mode=\"bilinear\")\n",
        "\n",
        "        self.conv3 = nn.Conv2d(in_channels // 4, n_filters, 1)\n",
        "        self.norm3 = nn.BatchNorm2d(n_filters)\n",
        "        self.relu3 = nn.LeakyReLU()\n",
        "\n",
        "    def forward(self, x):\n",
        "        x = self.conv1(x)\n",
        "        x = self.norm1(x)\n",
        "        x = self.relu1(x)\n",
        "        x = self.up(x)\n",
        "        x = self.conv3(x)\n",
        "        x = self.norm3(x)\n",
        "        x = self.relu3(x)\n",
        "        return x\n",
        "\n",
        "class FFBlock(nn.Module):\n",
        "    def __init__(self, channels):\n",
        "        super(FFBlock, self).__init__()\n",
        "\n",
        "        self.conv3 = nn.Conv2d(in_channels=channels, out_channels=channels, kernel_size=3, padding=1)\n",
        "        self.conv1 = nn.Conv2d(in_channels=channels, out_channels=channels, kernel_size=1)\n",
        "\n",
        "        self.relu3 = nn.LeakyReLU()\n",
        "        self.relu1 = nn.LeakyReLU()\n",
        "\n",
        "    def forward(self, x):\n",
        "        x3 = self.conv3(x)\n",
        "        x3 = self.relu3(x3)\n",
        "        x1 = self.conv1(x)\n",
        "        x1 = self.relu1(x1)\n",
        "        out = x3 + x1\n",
        "\n",
        "        return out\n",
        "\n",
        "class SEBlock(nn.Module):\n",
        "    def __init__(self, channel, r=16):\n",
        "        super(SEBlock, self).__init__()\n",
        "        self.avg_pool = nn.AdaptiveAvgPool2d(1)\n",
        "        self.fc = nn.Sequential(\n",
        "            nn.Linear(channel, channel // r, bias=False),\n",
        "            nn.LeakyReLU(),\n",
        "            nn.Linear(channel // r, channel, bias=False),\n",
        "            nn.Sigmoid(),\n",
        "        )\n",
        "\n",
        "    def forward(self, x):\n",
        "        b, c, _, _ = x.size()\n",
        "        ## Squeeze operation\n",
        "        y = self.avg_pool(x).view(b, c)\n",
        "        ## Excitation operation\n",
        "        y = self.fc(y).view(b, c, 1, 1)\n",
        "        ## Fusion operation\n",
        "        y = torch.mul(x, y)\n",
        "        return y\n",
        "\n",
        "class PDFBlock(nn.Module):\n",
        "    def __init__(self,in_channels, out_channels_list, kernel_size_list, dilation_list):\n",
        "        super(PDFBlock, self).__init__()\n",
        "        self.conv_num = len(out_channels_list)\n",
        "        assert(self.conv_num == 4)\n",
        "        assert(self.conv_num == len(kernel_size_list) and self.conv_num == len(dilation_list))\n",
        "        pad0 = int((kernel_size_list[0] - 1) / 2 * dilation_list[0])\n",
        "        pad1 = int((kernel_size_list[1] - 1) / 2 * dilation_list[1])\n",
        "        pad2 = int((kernel_size_list[2] - 1) / 2 * dilation_list[2])\n",
        "        pad3 = int((kernel_size_list[3] - 1) / 2 * dilation_list[3])\n",
        "        self.conv_1 = nn.Conv2d(in_channels, out_channels_list[0], kernel_size = kernel_size_list[0], dilation = dilation_list[0], padding = pad0 )\n",
        "        self.conv_2 = nn.Conv2d(in_channels, out_channels_list[1], kernel_size = kernel_size_list[1], dilation = dilation_list[1], padding = pad1 )\n",
        "        self.conv_3 = nn.Conv2d(in_channels, out_channels_list[2], kernel_size = kernel_size_list[2], dilation = dilation_list[2], padding = pad2 )\n",
        "        self.conv_4 = nn.Conv2d(in_channels, out_channels_list[3], kernel_size = kernel_size_list[3], dilation = dilation_list[3], padding = pad3 )\n",
        "\n",
        "        out_channels  = out_channels_list[0] + out_channels_list[1] + out_channels_list[2] + out_channels_list[3]\n",
        "        self.conv_1x1 = nn.Sequential(\n",
        "            nn.Conv2d(out_channels, out_channels, kernel_size=1, padding=0),\n",
        "            nn.BatchNorm2d(out_channels),\n",
        "            nn.LeakyReLU())\n",
        "\n",
        "    def forward(self, x):\n",
        "        x1 = self.conv_1(x)\n",
        "        x2 = self.conv_2(x)\n",
        "        x3 = self.conv_3(x)\n",
        "        x4 = self.conv_4(x)\n",
        "\n",
        "        y  = torch.cat([x1, x2, x3, x4], dim=1)\n",
        "        y  = self.conv_1x1(y)\n",
        "        return y\n",
        "\n",
        "class MET_Netv2(nn.Module):\n",
        "    def __init__(self, n_channels=3, n_classes=1):\n",
        "        super(MET_Netv2, self).__init__()\n",
        "\n",
        "        transformer = torch.hub.load('facebookresearch/deit:main', 'deit_tiny_distilled_patch16_224', pretrained=True)\n",
        "        resnet = resnet_model.resnet18(pretrained=True)\n",
        "\n",
        "        self.firstconv = resnet.conv1\n",
        "        self.firstbn = resnet.bn1\n",
        "        self.firstrelu = resnet.relu\n",
        "\n",
        "        self.encoder1 = resnet.layer1\n",
        "        self.encoder2 = resnet.layer2\n",
        "        self.encoder3 = resnet.layer3\n",
        "        self.encoder4 = resnet.layer4\n",
        "\n",
        "        self.patch_embed = transformer.patch_embed\n",
        "        self.transformers = nn.ModuleList( [transformer.blocks[i] for i in range(12)] )\n",
        "\n",
        "        self.conv_seq_img = nn.Conv2d(in_channels=192, out_channels=512, kernel_size=1, padding=0)\n",
        "        self.se = SEBlock(channel=1024)\n",
        "        self.conv2d = nn.Conv2d(in_channels=1024, out_channels=512, kernel_size=1, padding=0)\n",
        "\n",
        "        self.FFBlock1 = FFBlock(channels=64)\n",
        "        self.FFBlock2 = FFBlock(channels=128)\n",
        "        self.FFBlock3 = FFBlock(channels=256)\n",
        "\n",
        "        self.FFB1 = nn.ModuleList([self.FFBlock1 for i in range(6)])\n",
        "        self.FFB2 = nn.ModuleList([self.FFBlock2 for i in range(4)])\n",
        "        self.FFB3 = nn.ModuleList([self.FFBlock3 for i in range(2)])\n",
        "\n",
        "        filters = [64, 128, 256, 512]\n",
        "\n",
        "        self.decoder4 = DecoderBottleneckLayer(filters[3], filters[2])\n",
        "        self.decoder3 = DecoderBottleneckLayer(filters[2], filters[1])\n",
        "        self.decoder2 = DecoderBottleneckLayer(filters[1], filters[0])\n",
        "        self.decoder1 = DecoderBottleneckLayer(filters[0], filters[0])\n",
        "\n",
        "        self.final_conv1 = nn.ConvTranspose2d(filters[0], 32, 4, 2, 1)\n",
        "        self.final_relu1 = nn.LeakyReLU()\n",
        "        self.final_conv2 = nn.Conv2d(32, 32, 3, padding=1)\n",
        "        self.final_relu2 = nn.LeakyReLU()\n",
        "        self.final_conv3 = nn.Conv2d(32, n_classes, 3, padding=1)\n",
        "\n",
        "        self.cls = nn.Sequential(\n",
        "            nn.Conv2d(in_channels=1024, out_channels=512,kernel_size=1),\n",
        "            nn.BatchNorm2d(512),\n",
        "            nn.Dropout(p=0.2),\n",
        "            nn.Conv2d(in_channels=512, out_channels=128,kernel_size=1),\n",
        "            nn.BatchNorm2d(128),\n",
        "            nn.Dropout(p=0.2),\n",
        "            nn.Conv2d(in_channels=128, out_channels=64,kernel_size=1),\n",
        "            nn.BatchNorm2d(64),\n",
        "            nn.Conv2d(in_channels=64, out_channels=1,kernel_size=1),\n",
        "            nn.Flatten(),\n",
        "            nn.Linear(in_features=14*14, out_features=1),\n",
        "            nn.Sigmoid()\n",
        "        )\n",
        "\n",
        "    def forward(self, x):\n",
        "        b, c, h, w = x.shape\n",
        "\n",
        "        e0 = self.firstconv(x)\n",
        "        e0 = self.firstbn(e0)\n",
        "        e0 = self.firstrelu(e0)\n",
        "\n",
        "        e1 = self.encoder1(e0)\n",
        "        e2 = self.encoder2(e1)\n",
        "        e3 = self.encoder3(e2)\n",
        "        feature_cnn = self.encoder4(e3)\n",
        "\n",
        "        emb = self.patch_embed(x)\n",
        "        for i in range(12):\n",
        "            emb = self.transformers[i](emb)\n",
        "\n",
        "        feature_tf = emb.permute(0, 2, 1)\n",
        "        feature_tf = feature_tf.view(b, 192, 14, 14)\n",
        "        feature_tf = self.conv_seq_img(feature_tf)\n",
        "\n",
        "        feature_cat = torch.cat((feature_cnn, feature_tf), dim=1)\n",
        "        feature_att = self.se(feature_cat)\n",
        "        feature_out = self.conv2d(feature_att)\n",
        "\n",
        "        in_cls = feature_att.clone()\n",
        "\n",
        "        out_cls = self.cls(in_cls)\n",
        "\n",
        "        for i in range(2):\n",
        "            e3 = self.FFB3[i](e3)\n",
        "        for i in range(4):\n",
        "            e2 = self.FFB2[i](e2)\n",
        "        for i in range(6):\n",
        "            e1 = self.FFB1[i](e1)\n",
        "\n",
        "        d4 = self.decoder4(feature_out) + e3\n",
        "        d3 = self.decoder3(d4) + e2\n",
        "        d2 = self.decoder2(d3) + e1\n",
        "\n",
        "        out1 = self.final_conv1(d2)\n",
        "        out1 = self.final_relu1(out1)\n",
        "\n",
        "        out = self.final_conv2(out1)\n",
        "        out = self.final_relu2(out)\n",
        "        out = self.final_conv3(out)\n",
        "\n",
        "        return (out,out_cls)"
      ],
      "metadata": {
        "id": "WLUIiio5aK3D"
      },
      "execution_count": null,
      "outputs": []
    },
    {
      "cell_type": "code",
      "source": [
        "model = MET_Netv2()\n",
        "model.to(device)"
      ],
      "metadata": {
        "colab": {
          "base_uri": "https://localhost:8080/"
        },
        "id": "nPDYyR9Ycnn2",
        "outputId": "e931e0d2-22cb-40ac-ac50-e347a96376a6"
      },
      "execution_count": null,
      "outputs": [
        {
          "output_type": "stream",
          "name": "stderr",
          "text": [
            "Using cache found in /root/.cache/torch/hub/facebookresearch_deit_main\n",
            "/root/.cache/torch/hub/facebookresearch_deit_main/models.py:63: UserWarning: Overwriting deit_tiny_patch16_224 in registry with models.deit_tiny_patch16_224. This is because the name being registered conflicts with an existing name. Please check if this is not expected.\n",
            "  def deit_tiny_patch16_224(pretrained=False, **kwargs):\n",
            "/root/.cache/torch/hub/facebookresearch_deit_main/models.py:78: UserWarning: Overwriting deit_small_patch16_224 in registry with models.deit_small_patch16_224. This is because the name being registered conflicts with an existing name. Please check if this is not expected.\n",
            "  def deit_small_patch16_224(pretrained=False, **kwargs):\n",
            "/root/.cache/torch/hub/facebookresearch_deit_main/models.py:93: UserWarning: Overwriting deit_base_patch16_224 in registry with models.deit_base_patch16_224. This is because the name being registered conflicts with an existing name. Please check if this is not expected.\n",
            "  def deit_base_patch16_224(pretrained=False, **kwargs):\n",
            "/root/.cache/torch/hub/facebookresearch_deit_main/models.py:108: UserWarning: Overwriting deit_tiny_distilled_patch16_224 in registry with models.deit_tiny_distilled_patch16_224. This is because the name being registered conflicts with an existing name. Please check if this is not expected.\n",
            "  def deit_tiny_distilled_patch16_224(pretrained=False, **kwargs):\n",
            "/root/.cache/torch/hub/facebookresearch_deit_main/models.py:123: UserWarning: Overwriting deit_small_distilled_patch16_224 in registry with models.deit_small_distilled_patch16_224. This is because the name being registered conflicts with an existing name. Please check if this is not expected.\n",
            "  def deit_small_distilled_patch16_224(pretrained=False, **kwargs):\n",
            "/root/.cache/torch/hub/facebookresearch_deit_main/models.py:138: UserWarning: Overwriting deit_base_distilled_patch16_224 in registry with models.deit_base_distilled_patch16_224. This is because the name being registered conflicts with an existing name. Please check if this is not expected.\n",
            "  def deit_base_distilled_patch16_224(pretrained=False, **kwargs):\n",
            "/root/.cache/torch/hub/facebookresearch_deit_main/models.py:153: UserWarning: Overwriting deit_base_patch16_384 in registry with models.deit_base_patch16_384. This is because the name being registered conflicts with an existing name. Please check if this is not expected.\n",
            "  def deit_base_patch16_384(pretrained=False, **kwargs):\n",
            "/root/.cache/torch/hub/facebookresearch_deit_main/models.py:168: UserWarning: Overwriting deit_base_distilled_patch16_384 in registry with models.deit_base_distilled_patch16_384. This is because the name being registered conflicts with an existing name. Please check if this is not expected.\n",
            "  def deit_base_distilled_patch16_384(pretrained=False, **kwargs):\n",
            "/usr/local/lib/python3.10/dist-packages/torchvision/models/_utils.py:208: UserWarning: The parameter 'pretrained' is deprecated since 0.13 and may be removed in the future, please use 'weights' instead.\n",
            "  warnings.warn(\n",
            "/usr/local/lib/python3.10/dist-packages/torchvision/models/_utils.py:223: UserWarning: Arguments other than a weight enum or `None` for 'weights' are deprecated since 0.13 and may be removed in the future. The current behavior is equivalent to passing `weights=ResNet18_Weights.IMAGENET1K_V1`. You can also use `weights=ResNet18_Weights.DEFAULT` to get the most up-to-date weights.\n",
            "  warnings.warn(msg)\n"
          ]
        },
        {
          "output_type": "execute_result",
          "data": {
            "text/plain": [
              "MET_Netv2(\n",
              "  (firstconv): Conv2d(3, 64, kernel_size=(7, 7), stride=(2, 2), padding=(3, 3), bias=False)\n",
              "  (firstbn): BatchNorm2d(64, eps=1e-05, momentum=0.1, affine=True, track_running_stats=True)\n",
              "  (firstrelu): ReLU(inplace=True)\n",
              "  (encoder1): Sequential(\n",
              "    (0): BasicBlock(\n",
              "      (conv1): Conv2d(64, 64, kernel_size=(3, 3), stride=(1, 1), padding=(1, 1), bias=False)\n",
              "      (bn1): BatchNorm2d(64, eps=1e-05, momentum=0.1, affine=True, track_running_stats=True)\n",
              "      (relu): ReLU(inplace=True)\n",
              "      (conv2): Conv2d(64, 64, kernel_size=(3, 3), stride=(1, 1), padding=(1, 1), bias=False)\n",
              "      (bn2): BatchNorm2d(64, eps=1e-05, momentum=0.1, affine=True, track_running_stats=True)\n",
              "    )\n",
              "    (1): BasicBlock(\n",
              "      (conv1): Conv2d(64, 64, kernel_size=(3, 3), stride=(1, 1), padding=(1, 1), bias=False)\n",
              "      (bn1): BatchNorm2d(64, eps=1e-05, momentum=0.1, affine=True, track_running_stats=True)\n",
              "      (relu): ReLU(inplace=True)\n",
              "      (conv2): Conv2d(64, 64, kernel_size=(3, 3), stride=(1, 1), padding=(1, 1), bias=False)\n",
              "      (bn2): BatchNorm2d(64, eps=1e-05, momentum=0.1, affine=True, track_running_stats=True)\n",
              "    )\n",
              "  )\n",
              "  (encoder2): Sequential(\n",
              "    (0): BasicBlock(\n",
              "      (conv1): Conv2d(64, 128, kernel_size=(3, 3), stride=(2, 2), padding=(1, 1), bias=False)\n",
              "      (bn1): BatchNorm2d(128, eps=1e-05, momentum=0.1, affine=True, track_running_stats=True)\n",
              "      (relu): ReLU(inplace=True)\n",
              "      (conv2): Conv2d(128, 128, kernel_size=(3, 3), stride=(1, 1), padding=(1, 1), bias=False)\n",
              "      (bn2): BatchNorm2d(128, eps=1e-05, momentum=0.1, affine=True, track_running_stats=True)\n",
              "      (downsample): Sequential(\n",
              "        (0): Conv2d(64, 128, kernel_size=(1, 1), stride=(2, 2), bias=False)\n",
              "        (1): BatchNorm2d(128, eps=1e-05, momentum=0.1, affine=True, track_running_stats=True)\n",
              "      )\n",
              "    )\n",
              "    (1): BasicBlock(\n",
              "      (conv1): Conv2d(128, 128, kernel_size=(3, 3), stride=(1, 1), padding=(1, 1), bias=False)\n",
              "      (bn1): BatchNorm2d(128, eps=1e-05, momentum=0.1, affine=True, track_running_stats=True)\n",
              "      (relu): ReLU(inplace=True)\n",
              "      (conv2): Conv2d(128, 128, kernel_size=(3, 3), stride=(1, 1), padding=(1, 1), bias=False)\n",
              "      (bn2): BatchNorm2d(128, eps=1e-05, momentum=0.1, affine=True, track_running_stats=True)\n",
              "    )\n",
              "  )\n",
              "  (encoder3): Sequential(\n",
              "    (0): BasicBlock(\n",
              "      (conv1): Conv2d(128, 256, kernel_size=(3, 3), stride=(2, 2), padding=(1, 1), bias=False)\n",
              "      (bn1): BatchNorm2d(256, eps=1e-05, momentum=0.1, affine=True, track_running_stats=True)\n",
              "      (relu): ReLU(inplace=True)\n",
              "      (conv2): Conv2d(256, 256, kernel_size=(3, 3), stride=(1, 1), padding=(1, 1), bias=False)\n",
              "      (bn2): BatchNorm2d(256, eps=1e-05, momentum=0.1, affine=True, track_running_stats=True)\n",
              "      (downsample): Sequential(\n",
              "        (0): Conv2d(128, 256, kernel_size=(1, 1), stride=(2, 2), bias=False)\n",
              "        (1): BatchNorm2d(256, eps=1e-05, momentum=0.1, affine=True, track_running_stats=True)\n",
              "      )\n",
              "    )\n",
              "    (1): BasicBlock(\n",
              "      (conv1): Conv2d(256, 256, kernel_size=(3, 3), stride=(1, 1), padding=(1, 1), bias=False)\n",
              "      (bn1): BatchNorm2d(256, eps=1e-05, momentum=0.1, affine=True, track_running_stats=True)\n",
              "      (relu): ReLU(inplace=True)\n",
              "      (conv2): Conv2d(256, 256, kernel_size=(3, 3), stride=(1, 1), padding=(1, 1), bias=False)\n",
              "      (bn2): BatchNorm2d(256, eps=1e-05, momentum=0.1, affine=True, track_running_stats=True)\n",
              "    )\n",
              "  )\n",
              "  (encoder4): Sequential(\n",
              "    (0): BasicBlock(\n",
              "      (conv1): Conv2d(256, 512, kernel_size=(3, 3), stride=(2, 2), padding=(1, 1), bias=False)\n",
              "      (bn1): BatchNorm2d(512, eps=1e-05, momentum=0.1, affine=True, track_running_stats=True)\n",
              "      (relu): ReLU(inplace=True)\n",
              "      (conv2): Conv2d(512, 512, kernel_size=(3, 3), stride=(1, 1), padding=(1, 1), bias=False)\n",
              "      (bn2): BatchNorm2d(512, eps=1e-05, momentum=0.1, affine=True, track_running_stats=True)\n",
              "      (downsample): Sequential(\n",
              "        (0): Conv2d(256, 512, kernel_size=(1, 1), stride=(2, 2), bias=False)\n",
              "        (1): BatchNorm2d(512, eps=1e-05, momentum=0.1, affine=True, track_running_stats=True)\n",
              "      )\n",
              "    )\n",
              "    (1): BasicBlock(\n",
              "      (conv1): Conv2d(512, 512, kernel_size=(3, 3), stride=(1, 1), padding=(1, 1), bias=False)\n",
              "      (bn1): BatchNorm2d(512, eps=1e-05, momentum=0.1, affine=True, track_running_stats=True)\n",
              "      (relu): ReLU(inplace=True)\n",
              "      (conv2): Conv2d(512, 512, kernel_size=(3, 3), stride=(1, 1), padding=(1, 1), bias=False)\n",
              "      (bn2): BatchNorm2d(512, eps=1e-05, momentum=0.1, affine=True, track_running_stats=True)\n",
              "    )\n",
              "  )\n",
              "  (patch_embed): PatchEmbed(\n",
              "    (proj): Conv2d(3, 192, kernel_size=(16, 16), stride=(16, 16))\n",
              "    (norm): Identity()\n",
              "  )\n",
              "  (transformers): ModuleList(\n",
              "    (0-11): 12 x Block(\n",
              "      (norm1): LayerNorm((192,), eps=1e-06, elementwise_affine=True)\n",
              "      (attn): Attention(\n",
              "        (qkv): Linear(in_features=192, out_features=576, bias=True)\n",
              "        (q_norm): Identity()\n",
              "        (k_norm): Identity()\n",
              "        (attn_drop): Dropout(p=0.0, inplace=False)\n",
              "        (proj): Linear(in_features=192, out_features=192, bias=True)\n",
              "        (proj_drop): Dropout(p=0.0, inplace=False)\n",
              "      )\n",
              "      (ls1): Identity()\n",
              "      (drop_path1): Identity()\n",
              "      (norm2): LayerNorm((192,), eps=1e-06, elementwise_affine=True)\n",
              "      (mlp): Mlp(\n",
              "        (fc1): Linear(in_features=192, out_features=768, bias=True)\n",
              "        (act): GELU(approximate='none')\n",
              "        (drop1): Dropout(p=0.0, inplace=False)\n",
              "        (norm): Identity()\n",
              "        (fc2): Linear(in_features=768, out_features=192, bias=True)\n",
              "        (drop2): Dropout(p=0.0, inplace=False)\n",
              "      )\n",
              "      (ls2): Identity()\n",
              "      (drop_path2): Identity()\n",
              "    )\n",
              "  )\n",
              "  (conv_seq_img): Conv2d(192, 512, kernel_size=(1, 1), stride=(1, 1))\n",
              "  (se): SEBlock(\n",
              "    (avg_pool): AdaptiveAvgPool2d(output_size=1)\n",
              "    (fc): Sequential(\n",
              "      (0): Linear(in_features=1024, out_features=64, bias=False)\n",
              "      (1): LeakyReLU(negative_slope=0.01)\n",
              "      (2): Linear(in_features=64, out_features=1024, bias=False)\n",
              "      (3): Sigmoid()\n",
              "    )\n",
              "  )\n",
              "  (conv2d): Conv2d(1024, 512, kernel_size=(1, 1), stride=(1, 1))\n",
              "  (FFBlock1): FFBlock(\n",
              "    (conv3): Conv2d(64, 64, kernel_size=(3, 3), stride=(1, 1), padding=(1, 1))\n",
              "    (conv1): Conv2d(64, 64, kernel_size=(1, 1), stride=(1, 1))\n",
              "    (relu3): LeakyReLU(negative_slope=0.01)\n",
              "    (relu1): LeakyReLU(negative_slope=0.01)\n",
              "  )\n",
              "  (FFBlock2): FFBlock(\n",
              "    (conv3): Conv2d(128, 128, kernel_size=(3, 3), stride=(1, 1), padding=(1, 1))\n",
              "    (conv1): Conv2d(128, 128, kernel_size=(1, 1), stride=(1, 1))\n",
              "    (relu3): LeakyReLU(negative_slope=0.01)\n",
              "    (relu1): LeakyReLU(negative_slope=0.01)\n",
              "  )\n",
              "  (FFBlock3): FFBlock(\n",
              "    (conv3): Conv2d(256, 256, kernel_size=(3, 3), stride=(1, 1), padding=(1, 1))\n",
              "    (conv1): Conv2d(256, 256, kernel_size=(1, 1), stride=(1, 1))\n",
              "    (relu3): LeakyReLU(negative_slope=0.01)\n",
              "    (relu1): LeakyReLU(negative_slope=0.01)\n",
              "  )\n",
              "  (FFB1): ModuleList(\n",
              "    (0-5): 6 x FFBlock(\n",
              "      (conv3): Conv2d(64, 64, kernel_size=(3, 3), stride=(1, 1), padding=(1, 1))\n",
              "      (conv1): Conv2d(64, 64, kernel_size=(1, 1), stride=(1, 1))\n",
              "      (relu3): LeakyReLU(negative_slope=0.01)\n",
              "      (relu1): LeakyReLU(negative_slope=0.01)\n",
              "    )\n",
              "  )\n",
              "  (FFB2): ModuleList(\n",
              "    (0-3): 4 x FFBlock(\n",
              "      (conv3): Conv2d(128, 128, kernel_size=(3, 3), stride=(1, 1), padding=(1, 1))\n",
              "      (conv1): Conv2d(128, 128, kernel_size=(1, 1), stride=(1, 1))\n",
              "      (relu3): LeakyReLU(negative_slope=0.01)\n",
              "      (relu1): LeakyReLU(negative_slope=0.01)\n",
              "    )\n",
              "  )\n",
              "  (FFB3): ModuleList(\n",
              "    (0-1): 2 x FFBlock(\n",
              "      (conv3): Conv2d(256, 256, kernel_size=(3, 3), stride=(1, 1), padding=(1, 1))\n",
              "      (conv1): Conv2d(256, 256, kernel_size=(1, 1), stride=(1, 1))\n",
              "      (relu3): LeakyReLU(negative_slope=0.01)\n",
              "      (relu1): LeakyReLU(negative_slope=0.01)\n",
              "    )\n",
              "  )\n",
              "  (decoder4): DecoderBottleneckLayer(\n",
              "    (conv1): Conv2d(512, 128, kernel_size=(1, 1), stride=(1, 1))\n",
              "    (norm1): BatchNorm2d(128, eps=1e-05, momentum=0.1, affine=True, track_running_stats=True)\n",
              "    (relu1): LeakyReLU(negative_slope=0.01)\n",
              "    (up): Sequential(\n",
              "      (0): ConvTranspose2d(128, 128, kernel_size=(3, 3), stride=(2, 2), padding=(1, 1), output_padding=(1, 1))\n",
              "      (1): BatchNorm2d(128, eps=1e-05, momentum=0.1, affine=True, track_running_stats=True)\n",
              "      (2): LeakyReLU(negative_slope=0.01)\n",
              "    )\n",
              "    (conv3): Conv2d(128, 256, kernel_size=(1, 1), stride=(1, 1))\n",
              "    (norm3): BatchNorm2d(256, eps=1e-05, momentum=0.1, affine=True, track_running_stats=True)\n",
              "    (relu3): LeakyReLU(negative_slope=0.01)\n",
              "  )\n",
              "  (decoder3): DecoderBottleneckLayer(\n",
              "    (conv1): Conv2d(256, 64, kernel_size=(1, 1), stride=(1, 1))\n",
              "    (norm1): BatchNorm2d(64, eps=1e-05, momentum=0.1, affine=True, track_running_stats=True)\n",
              "    (relu1): LeakyReLU(negative_slope=0.01)\n",
              "    (up): Sequential(\n",
              "      (0): ConvTranspose2d(64, 64, kernel_size=(3, 3), stride=(2, 2), padding=(1, 1), output_padding=(1, 1))\n",
              "      (1): BatchNorm2d(64, eps=1e-05, momentum=0.1, affine=True, track_running_stats=True)\n",
              "      (2): LeakyReLU(negative_slope=0.01)\n",
              "    )\n",
              "    (conv3): Conv2d(64, 128, kernel_size=(1, 1), stride=(1, 1))\n",
              "    (norm3): BatchNorm2d(128, eps=1e-05, momentum=0.1, affine=True, track_running_stats=True)\n",
              "    (relu3): LeakyReLU(negative_slope=0.01)\n",
              "  )\n",
              "  (decoder2): DecoderBottleneckLayer(\n",
              "    (conv1): Conv2d(128, 32, kernel_size=(1, 1), stride=(1, 1))\n",
              "    (norm1): BatchNorm2d(32, eps=1e-05, momentum=0.1, affine=True, track_running_stats=True)\n",
              "    (relu1): LeakyReLU(negative_slope=0.01)\n",
              "    (up): Sequential(\n",
              "      (0): ConvTranspose2d(32, 32, kernel_size=(3, 3), stride=(2, 2), padding=(1, 1), output_padding=(1, 1))\n",
              "      (1): BatchNorm2d(32, eps=1e-05, momentum=0.1, affine=True, track_running_stats=True)\n",
              "      (2): LeakyReLU(negative_slope=0.01)\n",
              "    )\n",
              "    (conv3): Conv2d(32, 64, kernel_size=(1, 1), stride=(1, 1))\n",
              "    (norm3): BatchNorm2d(64, eps=1e-05, momentum=0.1, affine=True, track_running_stats=True)\n",
              "    (relu3): LeakyReLU(negative_slope=0.01)\n",
              "  )\n",
              "  (decoder1): DecoderBottleneckLayer(\n",
              "    (conv1): Conv2d(64, 16, kernel_size=(1, 1), stride=(1, 1))\n",
              "    (norm1): BatchNorm2d(16, eps=1e-05, momentum=0.1, affine=True, track_running_stats=True)\n",
              "    (relu1): LeakyReLU(negative_slope=0.01)\n",
              "    (up): Sequential(\n",
              "      (0): ConvTranspose2d(16, 16, kernel_size=(3, 3), stride=(2, 2), padding=(1, 1), output_padding=(1, 1))\n",
              "      (1): BatchNorm2d(16, eps=1e-05, momentum=0.1, affine=True, track_running_stats=True)\n",
              "      (2): LeakyReLU(negative_slope=0.01)\n",
              "    )\n",
              "    (conv3): Conv2d(16, 64, kernel_size=(1, 1), stride=(1, 1))\n",
              "    (norm3): BatchNorm2d(64, eps=1e-05, momentum=0.1, affine=True, track_running_stats=True)\n",
              "    (relu3): LeakyReLU(negative_slope=0.01)\n",
              "  )\n",
              "  (final_conv1): ConvTranspose2d(64, 32, kernel_size=(4, 4), stride=(2, 2), padding=(1, 1))\n",
              "  (final_relu1): LeakyReLU(negative_slope=0.01)\n",
              "  (final_conv2): Conv2d(32, 32, kernel_size=(3, 3), stride=(1, 1), padding=(1, 1))\n",
              "  (final_relu2): LeakyReLU(negative_slope=0.01)\n",
              "  (final_conv3): Conv2d(32, 1, kernel_size=(3, 3), stride=(1, 1), padding=(1, 1))\n",
              "  (cls): Sequential(\n",
              "    (0): Conv2d(1024, 512, kernel_size=(1, 1), stride=(1, 1))\n",
              "    (1): BatchNorm2d(512, eps=1e-05, momentum=0.1, affine=True, track_running_stats=True)\n",
              "    (2): Dropout(p=0.2, inplace=False)\n",
              "    (3): Conv2d(512, 128, kernel_size=(1, 1), stride=(1, 1))\n",
              "    (4): BatchNorm2d(128, eps=1e-05, momentum=0.1, affine=True, track_running_stats=True)\n",
              "    (5): Dropout(p=0.2, inplace=False)\n",
              "    (6): Conv2d(128, 64, kernel_size=(1, 1), stride=(1, 1))\n",
              "    (7): BatchNorm2d(64, eps=1e-05, momentum=0.1, affine=True, track_running_stats=True)\n",
              "    (8): Conv2d(64, 1, kernel_size=(1, 1), stride=(1, 1))\n",
              "    (9): Flatten(start_dim=1, end_dim=-1)\n",
              "    (10): Linear(in_features=196, out_features=1, bias=True)\n",
              "    (11): Sigmoid()\n",
              "  )\n",
              ")"
            ]
          },
          "metadata": {},
          "execution_count": 9
        }
      ]
    },
    {
      "cell_type": "markdown",
      "source": [
        "##***Training***"
      ],
      "metadata": {
        "id": "rxF8acBkZBYi"
      }
    },
    {
      "cell_type": "code",
      "source": [
        "class DiceAndCE(nn.Module):\n",
        "  def __init__(self):\n",
        "    super(DiceAndCE,self).__init__()\n",
        "    self.dice = DiceLoss()\n",
        "    self.ce = nn.BCELoss()\n",
        "\n",
        "\n",
        "  def forward(self, predictions,  targets_segm, targets_cls):\n",
        "    return self.dice(predictions[0], targets_segm) + self.ce(predictions[1].flatten(), targets_cls.type(torch.float32))\n"
      ],
      "metadata": {
        "id": "tYVvHERpjrAn"
      },
      "execution_count": null,
      "outputs": []
    },
    {
      "cell_type": "code",
      "source": [
        "#iperparameter\n",
        "num_epochs = 100\n",
        "batch_size = 32\n",
        "learning_rate=1e-4\n",
        "optimizer = torch.optim.NAdam(params=model.parameters(),lr=learning_rate)\n",
        "lr = torch.optim.lr_scheduler.ReduceLROnPlateau(optimizer=optimizer,patience=15)\n",
        "dataloader = torch.utils.data.DataLoader(trainset,batch_size=batch_size,shuffle=True)\n",
        "loss_fn = DiceAndCE()"
      ],
      "metadata": {
        "id": "UIrruF6rkJ_H"
      },
      "execution_count": null,
      "outputs": []
    },
    {
      "cell_type": "code",
      "source": [
        "def train_one_epoch(epoch_index):\n",
        "    l = []\n",
        "\n",
        "    for i, data in enumerate(dataloader):\n",
        "\n",
        "        torch.cuda.empty_cache()\n",
        "        inputs, labels_segm, labels_cls = data\n",
        "        inputs = inputs.to(device)\n",
        "        labels_segm = labels_segm.to(device)\n",
        "        labels_cls = labels_cls.to(device)\n",
        "\n",
        "        optimizer.zero_grad()\n",
        "\n",
        "        outputs = model(inputs)\n",
        "        loss = loss_fn(outputs, labels_segm,labels_cls)\n",
        "        loss.backward()\n",
        "\n",
        "        optimizer.step()\n",
        "        #print('Batch {} loss: {:.4f}'.format(i,loss.item()))\n",
        "\n",
        "        l.append(loss.item())\n",
        "\n",
        "    print('Epoch {} Loss (mean): {:.4f}'.format(epoch_index, np.mean(l)))"
      ],
      "metadata": {
        "id": "mVgPGQfwkPp8"
      },
      "execution_count": null,
      "outputs": []
    },
    {
      "cell_type": "code",
      "source": [
        "model.train()\n",
        "model.to('cuda')\n",
        "for epoch in range(1,num_epochs+1):\n",
        "  train_one_epoch(epoch)\n",
        "  if epoch%5 == 0:\n",
        "    torch.save(model,f'/content/drive/MyDrive/machinedeeplearning/models/model_{epoch}ep')"
      ],
      "metadata": {
        "outputId": "d25b5479-6198-4b3b-f45b-7b9b448c2b14",
        "colab": {
          "base_uri": "https://localhost:8080/"
        },
        "id": "6KwztyQHkUUF"
      },
      "execution_count": null,
      "outputs": [
        {
          "output_type": "stream",
          "name": "stderr",
          "text": [
            "/usr/local/lib/python3.10/dist-packages/torchvision/transforms/functional.py:1603: UserWarning: The default value of the antialias parameter of all the resizing transforms (Resize(), RandomResizedCrop(), etc.) will change from None to True in v0.17, in order to be consistent across the PIL and Tensor backends. To suppress this warning, directly pass antialias=True (recommended, future default), antialias=None (current default, which means False for Tensors and True for PIL), or antialias=False (only works on Tensors - PIL will still use antialiasing). This also applies if you are using the inference transforms from the models weights: update the call to weights.transforms(antialias=True).\n",
            "  warnings.warn(\n"
          ]
        },
        {
          "output_type": "stream",
          "name": "stdout",
          "text": [
            "Epoch 1 Loss (mean): 1.4588\n",
            "Epoch 2 Loss (mean): 1.0621\n",
            "Epoch 3 Loss (mean): 0.7797\n",
            "Epoch 4 Loss (mean): 0.7271\n",
            "Epoch 5 Loss (mean): 0.7133\n",
            "Epoch 6 Loss (mean): 0.6465\n",
            "Epoch 7 Loss (mean): 0.4711\n",
            "Epoch 8 Loss (mean): 0.3908\n",
            "Epoch 9 Loss (mean): 0.3436\n",
            "Epoch 10 Loss (mean): 0.2971\n",
            "Epoch 11 Loss (mean): 0.2554\n",
            "Epoch 12 Loss (mean): 0.2314\n",
            "Epoch 13 Loss (mean): 0.2037\n",
            "Epoch 14 Loss (mean): 0.1953\n",
            "Epoch 15 Loss (mean): 0.1793\n",
            "Epoch 16 Loss (mean): 0.1642\n",
            "Epoch 17 Loss (mean): 0.1490\n",
            "Epoch 18 Loss (mean): 0.1388\n",
            "Epoch 19 Loss (mean): 0.1305\n",
            "Epoch 20 Loss (mean): 0.1174\n",
            "Epoch 21 Loss (mean): 0.1117\n",
            "Epoch 22 Loss (mean): 0.1016\n",
            "Epoch 23 Loss (mean): 0.1011\n",
            "Epoch 24 Loss (mean): 0.0973\n",
            "Epoch 25 Loss (mean): 0.0886\n",
            "Epoch 26 Loss (mean): 0.0839\n",
            "Epoch 27 Loss (mean): 0.0815\n",
            "Epoch 28 Loss (mean): 0.0787\n",
            "Epoch 29 Loss (mean): 0.0748\n",
            "Epoch 30 Loss (mean): 0.0749\n",
            "Epoch 31 Loss (mean): 0.0716\n",
            "Epoch 32 Loss (mean): 0.0667\n",
            "Epoch 33 Loss (mean): 0.0663\n",
            "Epoch 34 Loss (mean): 0.0663\n",
            "Epoch 35 Loss (mean): 0.0628\n",
            "Epoch 36 Loss (mean): 0.0591\n",
            "Epoch 37 Loss (mean): 0.0575\n",
            "Epoch 38 Loss (mean): 0.0575\n",
            "Epoch 39 Loss (mean): 0.0556\n",
            "Epoch 40 Loss (mean): 0.0562\n",
            "Epoch 41 Loss (mean): 0.0529\n",
            "Epoch 42 Loss (mean): 0.0509\n",
            "Epoch 43 Loss (mean): 0.0542\n",
            "Epoch 44 Loss (mean): 0.0513\n",
            "Epoch 45 Loss (mean): 0.0515\n",
            "Epoch 46 Loss (mean): 0.0487\n",
            "Epoch 47 Loss (mean): 0.0470\n",
            "Epoch 48 Loss (mean): 0.0469\n",
            "Epoch 49 Loss (mean): 0.0479\n",
            "Epoch 50 Loss (mean): 0.0486\n",
            "Epoch 51 Loss (mean): 0.0449\n",
            "Epoch 52 Loss (mean): 0.0427\n",
            "Epoch 53 Loss (mean): 0.0446\n",
            "Epoch 54 Loss (mean): 0.0438\n",
            "Epoch 55 Loss (mean): 0.0418\n",
            "Epoch 56 Loss (mean): 0.0393\n",
            "Epoch 57 Loss (mean): 0.0381\n",
            "Epoch 58 Loss (mean): 0.0384\n",
            "Epoch 59 Loss (mean): 0.0410\n",
            "Epoch 60 Loss (mean): 0.0434\n",
            "Epoch 61 Loss (mean): 0.0397\n",
            "Epoch 62 Loss (mean): 0.0383\n",
            "Epoch 63 Loss (mean): 0.0395\n",
            "Epoch 64 Loss (mean): 0.0390\n",
            "Epoch 65 Loss (mean): 0.0367\n",
            "Epoch 66 Loss (mean): 0.0354\n",
            "Epoch 67 Loss (mean): 0.0342\n",
            "Epoch 68 Loss (mean): 0.0330\n",
            "Epoch 69 Loss (mean): 0.0319\n",
            "Epoch 70 Loss (mean): 0.0320\n",
            "Epoch 71 Loss (mean): 0.0330\n",
            "Epoch 72 Loss (mean): 0.0333\n",
            "Epoch 73 Loss (mean): 0.0325\n",
            "Epoch 74 Loss (mean): 0.0314\n",
            "Epoch 75 Loss (mean): 0.0312\n",
            "Epoch 76 Loss (mean): 0.0338\n",
            "Epoch 77 Loss (mean): 0.0315\n",
            "Epoch 78 Loss (mean): 0.0303\n",
            "Epoch 79 Loss (mean): 0.0297\n",
            "Epoch 80 Loss (mean): 0.0293\n",
            "Epoch 81 Loss (mean): 0.0282\n",
            "Epoch 82 Loss (mean): 0.0290\n",
            "Epoch 83 Loss (mean): 0.0286\n",
            "Epoch 84 Loss (mean): 0.0288\n",
            "Epoch 85 Loss (mean): 0.0285\n",
            "Epoch 86 Loss (mean): 0.0281\n",
            "Epoch 87 Loss (mean): 0.0272\n",
            "Epoch 88 Loss (mean): 0.0269\n",
            "Epoch 89 Loss (mean): 0.0270\n",
            "Epoch 90 Loss (mean): 0.0264\n",
            "Epoch 91 Loss (mean): 0.0269\n",
            "Epoch 92 Loss (mean): 0.0268\n",
            "Epoch 93 Loss (mean): 0.0263\n",
            "Epoch 94 Loss (mean): 0.0266\n",
            "Epoch 95 Loss (mean): 0.0257\n",
            "Epoch 96 Loss (mean): 0.0260\n",
            "Epoch 97 Loss (mean): 0.0254\n",
            "Epoch 98 Loss (mean): 0.0251\n",
            "Epoch 99 Loss (mean): 0.0261\n",
            "Epoch 100 Loss (mean): 0.0243\n"
          ]
        }
      ]
    },
    {
      "cell_type": "code",
      "source": [
        "dataloader = torch.utils.data.DataLoader(trainset,batch_size=2,shuffle=True)\n",
        "id, data = next(enumerate(dataloader))\n",
        "data"
      ],
      "metadata": {
        "colab": {
          "base_uri": "https://localhost:8080/"
        },
        "id": "-_JvWxCblpAD",
        "outputId": "9a265434-a5bc-4d80-cc84-0806b3450149"
      },
      "execution_count": null,
      "outputs": [
        {
          "output_type": "execute_result",
          "data": {
            "text/plain": [
              "[tensor([[[[0.1446, 0.1472, 0.1377,  ..., 0.0305, 0.0214, 0.1014],\n",
              "           [0.1275, 0.1408, 0.1466,  ..., 0.0340, 0.0332, 0.1235],\n",
              "           [0.1403, 0.1501, 0.1652,  ..., 0.0497, 0.0269, 0.1370],\n",
              "           ...,\n",
              "           [0.4153, 0.4037, 0.3898,  ..., 0.2064, 0.2138, 0.3964],\n",
              "           [0.4611, 0.4418, 0.4155,  ..., 0.1787, 0.1851, 0.3871],\n",
              "           [0.4911, 0.4680, 0.4423,  ..., 0.1483, 0.1712, 0.3874]],\n",
              " \n",
              "          [[0.1446, 0.1472, 0.1377,  ..., 0.0463, 0.0681, 0.1568],\n",
              "           [0.1275, 0.1408, 0.1466,  ..., 0.0505, 0.0845, 0.1885],\n",
              "           [0.1403, 0.1501, 0.1652,  ..., 0.0651, 0.0896, 0.2129],\n",
              "           ...,\n",
              "           [0.4153, 0.4037, 0.3898,  ..., 0.2064, 0.2138, 0.3964],\n",
              "           [0.4611, 0.4418, 0.4155,  ..., 0.1787, 0.1851, 0.3871],\n",
              "           [0.4911, 0.4680, 0.4423,  ..., 0.1483, 0.1712, 0.3874]],\n",
              " \n",
              "          [[0.1446, 0.1472, 0.1377,  ..., 0.0811, 0.1833, 0.3006],\n",
              "           [0.1275, 0.1408, 0.1466,  ..., 0.0802, 0.1944, 0.3185],\n",
              "           [0.1403, 0.1501, 0.1652,  ..., 0.0961, 0.1871, 0.3278],\n",
              "           ...,\n",
              "           [0.4153, 0.4037, 0.3898,  ..., 0.2064, 0.2138, 0.3964],\n",
              "           [0.4611, 0.4418, 0.4155,  ..., 0.1787, 0.1851, 0.3871],\n",
              "           [0.4911, 0.4680, 0.4423,  ..., 0.1483, 0.1712, 0.3874]]],\n",
              " \n",
              " \n",
              "         [[[0.1909, 0.1774, 0.1836,  ..., 0.3213, 0.1178, 0.1165],\n",
              "           [0.1798, 0.1446, 0.1459,  ..., 0.3069, 0.1161, 0.1141],\n",
              "           [0.1475, 0.1219, 0.1384,  ..., 0.2848, 0.1018, 0.0886],\n",
              "           ...,\n",
              "           [0.2142, 0.1989, 0.2011,  ..., 0.2313, 0.2059, 0.1363],\n",
              "           [0.2280, 0.2169, 0.2193,  ..., 0.2325, 0.2063, 0.1369],\n",
              "           [0.2708, 0.2641, 0.2698,  ..., 0.2701, 0.2467, 0.1548]],\n",
              " \n",
              "          [[0.1909, 0.1774, 0.1836,  ..., 0.3213, 0.1178, 0.1165],\n",
              "           [0.1798, 0.1446, 0.1459,  ..., 0.3069, 0.1161, 0.1141],\n",
              "           [0.1475, 0.1219, 0.1384,  ..., 0.2848, 0.1018, 0.0886],\n",
              "           ...,\n",
              "           [0.2142, 0.1989, 0.2011,  ..., 0.2313, 0.2059, 0.1363],\n",
              "           [0.2280, 0.2169, 0.2193,  ..., 0.2325, 0.2063, 0.1369],\n",
              "           [0.2708, 0.2641, 0.2698,  ..., 0.2701, 0.2467, 0.1548]],\n",
              " \n",
              "          [[0.1909, 0.1774, 0.1836,  ..., 0.3213, 0.1178, 0.1165],\n",
              "           [0.1798, 0.1446, 0.1459,  ..., 0.3069, 0.1161, 0.1141],\n",
              "           [0.1475, 0.1219, 0.1384,  ..., 0.2848, 0.1018, 0.0886],\n",
              "           ...,\n",
              "           [0.2142, 0.1989, 0.2011,  ..., 0.2313, 0.2059, 0.1363],\n",
              "           [0.2280, 0.2169, 0.2193,  ..., 0.2325, 0.2063, 0.1369],\n",
              "           [0.2708, 0.2641, 0.2698,  ..., 0.2701, 0.2467, 0.1548]]]]),\n",
              " tensor([[[0., 0., 0.,  ..., 0., 0., 0.],\n",
              "          [0., 0., 0.,  ..., 0., 0., 0.],\n",
              "          [0., 0., 0.,  ..., 0., 0., 0.],\n",
              "          ...,\n",
              "          [0., 0., 0.,  ..., 0., 0., 0.],\n",
              "          [0., 0., 0.,  ..., 0., 0., 0.],\n",
              "          [0., 0., 0.,  ..., 0., 0., 0.]],\n",
              " \n",
              "         [[0., 0., 0.,  ..., 0., 0., 0.],\n",
              "          [0., 0., 0.,  ..., 0., 0., 0.],\n",
              "          [0., 0., 0.,  ..., 0., 0., 0.],\n",
              "          ...,\n",
              "          [0., 0., 0.,  ..., 0., 0., 0.],\n",
              "          [0., 0., 0.,  ..., 0., 0., 0.],\n",
              "          [0., 0., 0.,  ..., 0., 0., 0.]]]),\n",
              " tensor([0, 0])]"
            ]
          },
          "metadata": {},
          "execution_count": 112
        }
      ]
    }
  ]
}